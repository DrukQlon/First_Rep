{
  "cells": [
    {
      "cell_type": "markdown",
      "metadata": {
        "id": "OSZ4XT67VpxE"
      },
      "source": [
        "# Задание\n",
        "* Cкачайте все вакансии СБЕРа из api hh.ru (https://github.com/hhru/api у апи есть ограничение в 2000, подумайте как его обойти)\n",
        "* Извлеките все полные описания этих вакансий по запросу с https://api.hh.ru/vacancies/43326020 где 43326020 id вакансии\n",
        "* Создайте DataFrame в котором будут даты публикации вакансий, названия, описания,  только добавьте поле ключевые навыки\n",
        "* Переведите даты публикаций в формат datetime и постройте график опубликованных вакансий по датам\n",
        "* Переведите даты в дни недели, и определите день недели, в который больше всего публикуют вакансий\n",
        "* Найдите вакансии с использованием python, которые вам интересны\n",
        "* Определите по полю с ключевыми навыками, какие навыки больше всего востребованы для найденных вакансий\n",
        "* Постройте график наиболее востребованных навыков"
      ]
    },
    {
      "cell_type": "code",
      "execution_count": 1,
      "metadata": {
        "id": "05FXDoTZVpxG"
      },
      "outputs": [],
      "source": [
        "import requests\n",
        "import time\n",
        "from tqdm.auto import tqdm"
      ]
    },
    {
      "cell_type": "code",
      "execution_count": 2,
      "metadata": {
        "id": "6VzVpHuBVpxH"
      },
      "outputs": [],
      "source": [
        "sber = '3529'\n",
        "page = 1\n",
        "num_per_page = 100\n",
        "url = f'https://api.hh.ru/vacancies?employer_id={sber}&page={page}&per_page={num_per_page}'"
      ]
    },
    {
      "cell_type": "code",
      "execution_count": 3,
      "metadata": {
        "colab": {
          "base_uri": "https://localhost:8080/"
        },
        "id": "66jAWEceVpxI",
        "outputId": "1fcd0a4f-8cc4-4563-a20f-553dc046bca7"
      },
      "outputs": [
        {
          "output_type": "stream",
          "name": "stdout",
          "text": [
            "20\n"
          ]
        }
      ],
      "source": [
        "res = requests.get(url)\n",
        "vacancies = res.json()\n",
        "num_pages = vacancies.get('pages')\n",
        "print(num_pages)"
      ]
    },
    {
      "cell_type": "code",
      "execution_count": 4,
      "metadata": {
        "colab": {
          "base_uri": "https://localhost:8080/",
          "height": 49,
          "referenced_widgets": [
            "f3896cb5b6634bb78d7cecb4868cf129",
            "470709b2492045639c3f55b4c32c8133",
            "b9b37140593b47cca042056cb4cac347",
            "6bdf1b0bbf4a43a5a607b19bc52a45d8",
            "cf838dbd67e5453599fd6f0abb0fe8d2",
            "af71e2a7d5b14f2abebf4c7b983f6c69",
            "fe3bffba21ef4046889aa16daba07daa",
            "8f203563fd7c46d6954982dfedfad55f",
            "fc5553ff058249eabd490ca281fcf43d",
            "e0414859f14f428a953d2a49ea0cc0cd",
            "af4a2966c6204cdda8527c5117a621b5"
          ]
        },
        "id": "39rwwLFAVpxI",
        "outputId": "e4f38d4c-6746-495a-ca09-12da1c5a5af6"
      },
      "outputs": [
        {
          "output_type": "display_data",
          "data": {
            "text/plain": [
              "  0%|          | 0/20 [00:00<?, ?it/s]"
            ],
            "application/vnd.jupyter.widget-view+json": {
              "version_major": 2,
              "version_minor": 0,
              "model_id": "f3896cb5b6634bb78d7cecb4868cf129"
            }
          },
          "metadata": {}
        }
      ],
      "source": [
        "#собираем вакансии по всем страницам\n",
        "all_vacancy_ids= []\n",
        "for i in tqdm(range(vacancies.get('pages'))):\n",
        "    url = f'https://api.hh.ru/vacancies?employer_id={sber}&page={i}&per_page={num_per_page}'\n",
        "    res = requests.get(url)\n",
        "    vacancies = res.json()\n",
        "    for j in range(len(vacancies.get('items'))):\n",
        "        vacancy_ids = vacancies.get('items')[j].get('id')\n",
        "        all_vacancy_ids.append(vacancy_ids)"
      ]
    },
    {
      "cell_type": "code",
      "execution_count": 17,
      "metadata": {
        "colab": {
          "base_uri": "https://localhost:8080/",
          "height": 49,
          "referenced_widgets": [
            "0d6d606167c6493f8917209d34804b0e",
            "7e4b9623048b4d4cbc4a5505442a92a2",
            "4dfdd71d83854f97b4edd5c1364bd04e",
            "fc7b1a4601df48af9bbfab5844834fe7",
            "a44f5b89572a43d1aef817ae476a5cda",
            "6b7f0b0ae9804fff81c5123473cab05d",
            "8484040e5e994aae89fa245a6fe36f12",
            "16ae77abf7884f89b981230a648c01ae",
            "be8762442ad74e3abc65f8f81d72c59c",
            "8b2c06bc3c3849dcafcf07fecf3e5160",
            "dbdd527a9c3d4e42b131e2110a20f747"
          ]
        },
        "id": "KeHusXZPVpxJ",
        "outputId": "631bf860-a977-481f-9a77-f473a6d12b27"
      },
      "outputs": [
        {
          "output_type": "display_data",
          "data": {
            "text/plain": [
              "  0%|          | 0/2000 [00:00<?, ?it/s]"
            ],
            "application/vnd.jupyter.widget-view+json": {
              "version_major": 2,
              "version_minor": 0,
              "model_id": "0d6d606167c6493f8917209d34804b0e"
            }
          },
          "metadata": {}
        }
      ],
      "source": [
        "id_list = []\n",
        "for i in tqdm(range(len(all_vacancy_ids))):\n",
        "    if i%20 == 0: time.sleep(3)\n",
        "    url = f'https://api.hh.ru/vacancies/{all_vacancy_ids[i]}'\n",
        "    res = requests.get(url)\n",
        "    wanted_vacs = res.json()\n",
        "    id_list.append(wanted_vacs)"
      ]
    },
    {
      "cell_type": "code",
      "execution_count": 18,
      "metadata": {
        "id": "6XOK2FTUVpxJ"
      },
      "outputs": [],
      "source": [
        "#Создайте DataFrame в котором будут даты публикации вакансий, названия, описания, только добавьте поле ключевые навыки\n",
        "import pandas as pd\n",
        "vacs_table = pd.DataFrame(id_list, columns = ['name', 'published_at', 'description', 'key_skills'])"
      ]
    },
    {
      "cell_type": "code",
      "execution_count": null,
      "metadata": {
        "id": "ZjNQK-JYVpxK"
      },
      "outputs": [],
      "source": [
        "#Переведите даты публикаций в формат datetime и постройте график опубликованных вакансий по датам\n",
        "#Переведите даты в дни недели, и определите день недели, в который больше всего публикуют вакансий\n",
        "#Найдите вакансии с использованием python, которые вам интересны\n",
        "#Определите по полю с ключевыми навыками, какие навыки больше всего востребованы для найденных вакансий\n",
        "#Постройте график наиболее востребованных навыков"
      ]
    },
    {
      "cell_type": "code",
      "execution_count": 19,
      "metadata": {
        "colab": {
          "base_uri": "https://localhost:8080/",
          "height": 206
        },
        "id": "R78c1xdTVpxK",
        "outputId": "3cd7964c-e17e-4ee9-a64a-608578d06f54"
      },
      "outputs": [
        {
          "output_type": "execute_result",
          "data": {
            "text/plain": [
              "                         name              published_at  \\\n",
              "0     Исполнительный директор  2023-03-27T11:35:17+0300   \n",
              "1       Менеджер проектов ВЭД  2023-03-27T19:16:00+0300   \n",
              "2      Финансовый консультант  2023-03-14T11:22:39+0300   \n",
              "3       Руководитель проектов  2023-03-27T13:05:38+0300   \n",
              "4  Frontend (React) developer  2023-03-27T16:11:27+0300   \n",
              "\n",
              "                                         description  \\\n",
              "0  <p>Команда управления по работе со специальным...   \n",
              "1  <p>Сбер — лучший работодатель России. У нас бо...   \n",
              "2  <p> </p> <p><strong>Финансовый консультант </s...   \n",
              "3  <p>Команда управления по работе со специальным...   \n",
              "4  <p>Мы разрабатываем web-приложение интерактивн...   \n",
              "\n",
              "                                          key_skills  \n",
              "0                                                 []  \n",
              "1                                                 []  \n",
              "2  [{'name': 'Деловое общение'}, {'name': 'Активн...  \n",
              "3                                                 []  \n",
              "4                                                 []  "
            ],
            "text/html": [
              "\n",
              "  <div id=\"df-17b2d5e4-28f2-4864-8028-4798f63f45a5\">\n",
              "    <div class=\"colab-df-container\">\n",
              "      <div>\n",
              "<style scoped>\n",
              "    .dataframe tbody tr th:only-of-type {\n",
              "        vertical-align: middle;\n",
              "    }\n",
              "\n",
              "    .dataframe tbody tr th {\n",
              "        vertical-align: top;\n",
              "    }\n",
              "\n",
              "    .dataframe thead th {\n",
              "        text-align: right;\n",
              "    }\n",
              "</style>\n",
              "<table border=\"1\" class=\"dataframe\">\n",
              "  <thead>\n",
              "    <tr style=\"text-align: right;\">\n",
              "      <th></th>\n",
              "      <th>name</th>\n",
              "      <th>published_at</th>\n",
              "      <th>description</th>\n",
              "      <th>key_skills</th>\n",
              "    </tr>\n",
              "  </thead>\n",
              "  <tbody>\n",
              "    <tr>\n",
              "      <th>0</th>\n",
              "      <td>Исполнительный директор</td>\n",
              "      <td>2023-03-27T11:35:17+0300</td>\n",
              "      <td>&lt;p&gt;Команда управления по работе со специальным...</td>\n",
              "      <td>[]</td>\n",
              "    </tr>\n",
              "    <tr>\n",
              "      <th>1</th>\n",
              "      <td>Менеджер проектов ВЭД</td>\n",
              "      <td>2023-03-27T19:16:00+0300</td>\n",
              "      <td>&lt;p&gt;Сбер — лучший работодатель России. У нас бо...</td>\n",
              "      <td>[]</td>\n",
              "    </tr>\n",
              "    <tr>\n",
              "      <th>2</th>\n",
              "      <td>Финансовый консультант</td>\n",
              "      <td>2023-03-14T11:22:39+0300</td>\n",
              "      <td>&lt;p&gt; &lt;/p&gt; &lt;p&gt;&lt;strong&gt;Финансовый консультант &lt;/s...</td>\n",
              "      <td>[{'name': 'Деловое общение'}, {'name': 'Активн...</td>\n",
              "    </tr>\n",
              "    <tr>\n",
              "      <th>3</th>\n",
              "      <td>Руководитель проектов</td>\n",
              "      <td>2023-03-27T13:05:38+0300</td>\n",
              "      <td>&lt;p&gt;Команда управления по работе со специальным...</td>\n",
              "      <td>[]</td>\n",
              "    </tr>\n",
              "    <tr>\n",
              "      <th>4</th>\n",
              "      <td>Frontend (React) developer</td>\n",
              "      <td>2023-03-27T16:11:27+0300</td>\n",
              "      <td>&lt;p&gt;Мы разрабатываем web-приложение интерактивн...</td>\n",
              "      <td>[]</td>\n",
              "    </tr>\n",
              "  </tbody>\n",
              "</table>\n",
              "</div>\n",
              "      <button class=\"colab-df-convert\" onclick=\"convertToInteractive('df-17b2d5e4-28f2-4864-8028-4798f63f45a5')\"\n",
              "              title=\"Convert this dataframe to an interactive table.\"\n",
              "              style=\"display:none;\">\n",
              "        \n",
              "  <svg xmlns=\"http://www.w3.org/2000/svg\" height=\"24px\"viewBox=\"0 0 24 24\"\n",
              "       width=\"24px\">\n",
              "    <path d=\"M0 0h24v24H0V0z\" fill=\"none\"/>\n",
              "    <path d=\"M18.56 5.44l.94 2.06.94-2.06 2.06-.94-2.06-.94-.94-2.06-.94 2.06-2.06.94zm-11 1L8.5 8.5l.94-2.06 2.06-.94-2.06-.94L8.5 2.5l-.94 2.06-2.06.94zm10 10l.94 2.06.94-2.06 2.06-.94-2.06-.94-.94-2.06-.94 2.06-2.06.94z\"/><path d=\"M17.41 7.96l-1.37-1.37c-.4-.4-.92-.59-1.43-.59-.52 0-1.04.2-1.43.59L10.3 9.45l-7.72 7.72c-.78.78-.78 2.05 0 2.83L4 21.41c.39.39.9.59 1.41.59.51 0 1.02-.2 1.41-.59l7.78-7.78 2.81-2.81c.8-.78.8-2.07 0-2.86zM5.41 20L4 18.59l7.72-7.72 1.47 1.35L5.41 20z\"/>\n",
              "  </svg>\n",
              "      </button>\n",
              "      \n",
              "  <style>\n",
              "    .colab-df-container {\n",
              "      display:flex;\n",
              "      flex-wrap:wrap;\n",
              "      gap: 12px;\n",
              "    }\n",
              "\n",
              "    .colab-df-convert {\n",
              "      background-color: #E8F0FE;\n",
              "      border: none;\n",
              "      border-radius: 50%;\n",
              "      cursor: pointer;\n",
              "      display: none;\n",
              "      fill: #1967D2;\n",
              "      height: 32px;\n",
              "      padding: 0 0 0 0;\n",
              "      width: 32px;\n",
              "    }\n",
              "\n",
              "    .colab-df-convert:hover {\n",
              "      background-color: #E2EBFA;\n",
              "      box-shadow: 0px 1px 2px rgba(60, 64, 67, 0.3), 0px 1px 3px 1px rgba(60, 64, 67, 0.15);\n",
              "      fill: #174EA6;\n",
              "    }\n",
              "\n",
              "    [theme=dark] .colab-df-convert {\n",
              "      background-color: #3B4455;\n",
              "      fill: #D2E3FC;\n",
              "    }\n",
              "\n",
              "    [theme=dark] .colab-df-convert:hover {\n",
              "      background-color: #434B5C;\n",
              "      box-shadow: 0px 1px 3px 1px rgba(0, 0, 0, 0.15);\n",
              "      filter: drop-shadow(0px 1px 2px rgba(0, 0, 0, 0.3));\n",
              "      fill: #FFFFFF;\n",
              "    }\n",
              "  </style>\n",
              "\n",
              "      <script>\n",
              "        const buttonEl =\n",
              "          document.querySelector('#df-17b2d5e4-28f2-4864-8028-4798f63f45a5 button.colab-df-convert');\n",
              "        buttonEl.style.display =\n",
              "          google.colab.kernel.accessAllowed ? 'block' : 'none';\n",
              "\n",
              "        async function convertToInteractive(key) {\n",
              "          const element = document.querySelector('#df-17b2d5e4-28f2-4864-8028-4798f63f45a5');\n",
              "          const dataTable =\n",
              "            await google.colab.kernel.invokeFunction('convertToInteractive',\n",
              "                                                     [key], {});\n",
              "          if (!dataTable) return;\n",
              "\n",
              "          const docLinkHtml = 'Like what you see? Visit the ' +\n",
              "            '<a target=\"_blank\" href=https://colab.research.google.com/notebooks/data_table.ipynb>data table notebook</a>'\n",
              "            + ' to learn more about interactive tables.';\n",
              "          element.innerHTML = '';\n",
              "          dataTable['output_type'] = 'display_data';\n",
              "          await google.colab.output.renderOutput(dataTable, element);\n",
              "          const docLink = document.createElement('div');\n",
              "          docLink.innerHTML = docLinkHtml;\n",
              "          element.appendChild(docLink);\n",
              "        }\n",
              "      </script>\n",
              "    </div>\n",
              "  </div>\n",
              "  "
            ]
          },
          "metadata": {},
          "execution_count": 19
        }
      ],
      "source": [
        "vacs_table.head()"
      ]
    },
    {
      "cell_type": "code",
      "execution_count": 27,
      "metadata": {
        "id": "Teg0bQssVpxL"
      },
      "outputs": [],
      "source": [
        "#обработка содержимого ДФ\n",
        "import datetime\n",
        "import re\n",
        "#добавляем новый столбец для заполнения названиями дней недели\n",
        "vacs_table['weekday'] = ''\n",
        "for i in range(vacs_table.shape[0]):\n",
        "    key_skills_list = []\n",
        "    #Переведите даты публикаций в формат datetime\n",
        "    #если объект не является датой, то корректируем данные в таблице\n",
        "    if isinstance(vacs_table.published_at[i], datetime.date) == False:\n",
        "        qqq = datetime.date(int(vacs_table.published_at[i][0:4]),int(vacs_table.published_at[i][5:7]),int(vacs_table.published_at[i][8:10]))\n",
        "        vacs_table.published_at.replace(vacs_table.published_at[i], qqq, inplace=True)\n",
        "    #Переведите даты в названия дней недели\n",
        "    www = qqq.weekday()\n",
        "    if www == 0: www = \"понедельник\"\n",
        "    elif www == 1: www = \"вторник\"\n",
        "    elif www == 2: www = \"среда\"\n",
        "    elif www == 3: www = \"четверг\"\n",
        "    elif www == 4: www = \"пятница\"\n",
        "    elif www == 5: www = \"суббота\"\n",
        "    elif www == 6: www = \"воскресение\"\n",
        "    vacs_table.weekday[i] = www\n"
      ]
    },
    {
      "cell_type": "code",
      "execution_count": 54,
      "metadata": {
        "colab": {
          "base_uri": "https://localhost:8080/",
          "height": 206
        },
        "id": "H3zsiqImVpxL",
        "outputId": "949421d4-49dc-4e7c-e5ac-2a85d1a4e973"
      },
      "outputs": [
        {
          "output_type": "execute_result",
          "data": {
            "text/plain": [
              "                         name published_at  \\\n",
              "0     Исполнительный директор   2023-03-27   \n",
              "1       Менеджер проектов ВЭД   2023-03-27   \n",
              "2      Финансовый консультант   2023-03-14   \n",
              "3       Руководитель проектов   2023-03-27   \n",
              "4  Frontend (React) developer   2023-03-27   \n",
              "\n",
              "                                         description  \\\n",
              "0  Команда управления по работе со специальными п...   \n",
              "1  Сбер — лучший работодатель России. У нас более...   \n",
              "2    Финансовый консультант    Сбер — лучший рабо...   \n",
              "3  Команда управления по работе со специальными п...   \n",
              "4  Мы разрабатываем web-приложение интерактивной ...   \n",
              "\n",
              "                                          key_skills  weekday  \n",
              "0                                                 []  вторник  \n",
              "1                                                 []  вторник  \n",
              "2  [{'name': 'Деловое общение'}, {'name': 'Активн...  вторник  \n",
              "3                                                 []  вторник  \n",
              "4                                                 []  вторник  "
            ],
            "text/html": [
              "\n",
              "  <div id=\"df-021cc24f-d724-4af4-976c-6b2f1219ae20\">\n",
              "    <div class=\"colab-df-container\">\n",
              "      <div>\n",
              "<style scoped>\n",
              "    .dataframe tbody tr th:only-of-type {\n",
              "        vertical-align: middle;\n",
              "    }\n",
              "\n",
              "    .dataframe tbody tr th {\n",
              "        vertical-align: top;\n",
              "    }\n",
              "\n",
              "    .dataframe thead th {\n",
              "        text-align: right;\n",
              "    }\n",
              "</style>\n",
              "<table border=\"1\" class=\"dataframe\">\n",
              "  <thead>\n",
              "    <tr style=\"text-align: right;\">\n",
              "      <th></th>\n",
              "      <th>name</th>\n",
              "      <th>published_at</th>\n",
              "      <th>description</th>\n",
              "      <th>key_skills</th>\n",
              "      <th>weekday</th>\n",
              "    </tr>\n",
              "  </thead>\n",
              "  <tbody>\n",
              "    <tr>\n",
              "      <th>0</th>\n",
              "      <td>Исполнительный директор</td>\n",
              "      <td>2023-03-27</td>\n",
              "      <td>Команда управления по работе со специальными п...</td>\n",
              "      <td>[]</td>\n",
              "      <td>вторник</td>\n",
              "    </tr>\n",
              "    <tr>\n",
              "      <th>1</th>\n",
              "      <td>Менеджер проектов ВЭД</td>\n",
              "      <td>2023-03-27</td>\n",
              "      <td>Сбер — лучший работодатель России. У нас более...</td>\n",
              "      <td>[]</td>\n",
              "      <td>вторник</td>\n",
              "    </tr>\n",
              "    <tr>\n",
              "      <th>2</th>\n",
              "      <td>Финансовый консультант</td>\n",
              "      <td>2023-03-14</td>\n",
              "      <td>Финансовый консультант    Сбер — лучший рабо...</td>\n",
              "      <td>[{'name': 'Деловое общение'}, {'name': 'Активн...</td>\n",
              "      <td>вторник</td>\n",
              "    </tr>\n",
              "    <tr>\n",
              "      <th>3</th>\n",
              "      <td>Руководитель проектов</td>\n",
              "      <td>2023-03-27</td>\n",
              "      <td>Команда управления по работе со специальными п...</td>\n",
              "      <td>[]</td>\n",
              "      <td>вторник</td>\n",
              "    </tr>\n",
              "    <tr>\n",
              "      <th>4</th>\n",
              "      <td>Frontend (React) developer</td>\n",
              "      <td>2023-03-27</td>\n",
              "      <td>Мы разрабатываем web-приложение интерактивной ...</td>\n",
              "      <td>[]</td>\n",
              "      <td>вторник</td>\n",
              "    </tr>\n",
              "  </tbody>\n",
              "</table>\n",
              "</div>\n",
              "      <button class=\"colab-df-convert\" onclick=\"convertToInteractive('df-021cc24f-d724-4af4-976c-6b2f1219ae20')\"\n",
              "              title=\"Convert this dataframe to an interactive table.\"\n",
              "              style=\"display:none;\">\n",
              "        \n",
              "  <svg xmlns=\"http://www.w3.org/2000/svg\" height=\"24px\"viewBox=\"0 0 24 24\"\n",
              "       width=\"24px\">\n",
              "    <path d=\"M0 0h24v24H0V0z\" fill=\"none\"/>\n",
              "    <path d=\"M18.56 5.44l.94 2.06.94-2.06 2.06-.94-2.06-.94-.94-2.06-.94 2.06-2.06.94zm-11 1L8.5 8.5l.94-2.06 2.06-.94-2.06-.94L8.5 2.5l-.94 2.06-2.06.94zm10 10l.94 2.06.94-2.06 2.06-.94-2.06-.94-.94-2.06-.94 2.06-2.06.94z\"/><path d=\"M17.41 7.96l-1.37-1.37c-.4-.4-.92-.59-1.43-.59-.52 0-1.04.2-1.43.59L10.3 9.45l-7.72 7.72c-.78.78-.78 2.05 0 2.83L4 21.41c.39.39.9.59 1.41.59.51 0 1.02-.2 1.41-.59l7.78-7.78 2.81-2.81c.8-.78.8-2.07 0-2.86zM5.41 20L4 18.59l7.72-7.72 1.47 1.35L5.41 20z\"/>\n",
              "  </svg>\n",
              "      </button>\n",
              "      \n",
              "  <style>\n",
              "    .colab-df-container {\n",
              "      display:flex;\n",
              "      flex-wrap:wrap;\n",
              "      gap: 12px;\n",
              "    }\n",
              "\n",
              "    .colab-df-convert {\n",
              "      background-color: #E8F0FE;\n",
              "      border: none;\n",
              "      border-radius: 50%;\n",
              "      cursor: pointer;\n",
              "      display: none;\n",
              "      fill: #1967D2;\n",
              "      height: 32px;\n",
              "      padding: 0 0 0 0;\n",
              "      width: 32px;\n",
              "    }\n",
              "\n",
              "    .colab-df-convert:hover {\n",
              "      background-color: #E2EBFA;\n",
              "      box-shadow: 0px 1px 2px rgba(60, 64, 67, 0.3), 0px 1px 3px 1px rgba(60, 64, 67, 0.15);\n",
              "      fill: #174EA6;\n",
              "    }\n",
              "\n",
              "    [theme=dark] .colab-df-convert {\n",
              "      background-color: #3B4455;\n",
              "      fill: #D2E3FC;\n",
              "    }\n",
              "\n",
              "    [theme=dark] .colab-df-convert:hover {\n",
              "      background-color: #434B5C;\n",
              "      box-shadow: 0px 1px 3px 1px rgba(0, 0, 0, 0.15);\n",
              "      filter: drop-shadow(0px 1px 2px rgba(0, 0, 0, 0.3));\n",
              "      fill: #FFFFFF;\n",
              "    }\n",
              "  </style>\n",
              "\n",
              "      <script>\n",
              "        const buttonEl =\n",
              "          document.querySelector('#df-021cc24f-d724-4af4-976c-6b2f1219ae20 button.colab-df-convert');\n",
              "        buttonEl.style.display =\n",
              "          google.colab.kernel.accessAllowed ? 'block' : 'none';\n",
              "\n",
              "        async function convertToInteractive(key) {\n",
              "          const element = document.querySelector('#df-021cc24f-d724-4af4-976c-6b2f1219ae20');\n",
              "          const dataTable =\n",
              "            await google.colab.kernel.invokeFunction('convertToInteractive',\n",
              "                                                     [key], {});\n",
              "          if (!dataTable) return;\n",
              "\n",
              "          const docLinkHtml = 'Like what you see? Visit the ' +\n",
              "            '<a target=\"_blank\" href=https://colab.research.google.com/notebooks/data_table.ipynb>data table notebook</a>'\n",
              "            + ' to learn more about interactive tables.';\n",
              "          element.innerHTML = '';\n",
              "          dataTable['output_type'] = 'display_data';\n",
              "          await google.colab.output.renderOutput(dataTable, element);\n",
              "          const docLink = document.createElement('div');\n",
              "          docLink.innerHTML = docLinkHtml;\n",
              "          element.appendChild(docLink);\n",
              "        }\n",
              "      </script>\n",
              "    </div>\n",
              "  </div>\n",
              "  "
            ]
          },
          "metadata": {},
          "execution_count": 54
        }
      ],
      "source": [
        "#проверяем итоговые данные\n",
        "vacs_table.head()"
      ]
    },
    {
      "cell_type": "code",
      "execution_count": 55,
      "metadata": {
        "colab": {
          "base_uri": "https://localhost:8080/",
          "height": 406
        },
        "id": "-BMQRUIfVpxM",
        "outputId": "186474ed-f7e2-419a-d92d-b552f47f1444"
      },
      "outputs": [
        {
          "output_type": "execute_result",
          "data": {
            "text/plain": [
              "<Axes: xlabel='Дата размещения вакансии', ylabel='Количество вакансий'>"
            ]
          },
          "metadata": {},
          "execution_count": 55
        },
        {
          "output_type": "display_data",
          "data": {
            "text/plain": [
              "<Figure size 1296x432 with 1 Axes>"
            ],
            "image/png": "[encoded data removed]"
          },
          "metadata": {
            "needs_background": "light"
          }
        }
      ],
      "source": [
        "#постройте график опубликованных вакансий по датам\n",
        "dates_visual = vacs_table.groupby('published_at')['name'].count()\n",
        "dates_visual.plot(figsize=(18,6),\n",
        "            xlabel='Дата размещения вакансии',\n",
        "            ylabel='Количество вакансий'\n",
        "         )"
      ]
    },
    {
      "cell_type": "code",
      "execution_count": 66,
      "metadata": {
        "colab": {
          "base_uri": "https://localhost:8080/"
        },
        "id": "NvUOv4UnVpxM",
        "outputId": "fd302e4d-299d-413b-83d8-14b2e8eac5b9"
      },
      "outputs": [
        {
          "output_type": "stream",
          "name": "stdout",
          "text": [
            "Наибольшее количество публикаций вакансий происходит в следующий день недели: \n"
          ]
        }
      ],
      "source": [
        "#определите день недели, в который больше всего публикуют вакансий\n",
        "weekdates_table = vacs_table.groupby('weekday')['name'].count()\n",
        "qqq = weekdates_table.sort_values(ascending=False).head(1)\n",
        "print('Наибольшее количество публикаций вакансий происходит в следующий день недели:', qqq.index[0])"
      ]
    },
    {
      "cell_type": "code",
      "source": [
        "#через цикл проверяем есть ли в названии вакансии слово Python\n",
        "\n",
        "vac_py = []\n",
        "for i in range(len(vac_desc)):\n",
        "    if type(vac_desc['name'][i]) == str:\n",
        "        if ('Python' in vac_desc['name'][i]) == True:\n",
        "            vac_py.append(vac_desc['name'][i])\n",
        "#print(vac_py)\n",
        "print('Вакансий которые нам нравяться(со словом Python): '  + str(len(vac_py)))"
      ],
      "metadata": {
        "colab": {
          "base_uri": "https://localhost:8080/"
        },
        "id": "b3phD8jiokvu",
        "outputId": "422e4d39-8ad1-4e0b-a5fc-fba0cc834433"
      },
      "execution_count": 67,
      "outputs": [
        {
          "output_type": "stream",
          "name": "stdout",
          "text": [
            "Вакансий которые нам нравяться(со словом Python): 21\n"
          ]
        }
      ]
    },
    {
      "cell_type": "code",
      "execution_count": 68,
      "metadata": {
        "id": "RoxXUQoXVpxN"
      },
      "outputs": [],
      "source": [
        "#Определите по полю с ключевыми навыками, какие навыки больше всего востребованы для найденных вакансий\n",
        "vac_skill = pd.DataFrame(vacs_table, columns = ['name','id','description','published_at','key_skills'])"
      ]
    }
  ],
  "metadata": {
    "kernelspec": {
      "display_name": "Python 3 (ipykernel)",
      "language": "python",
      "name": "python3"
    },
    "language_info": {
      "codemirror_mode": {
        "name": "ipython",
        "version": 3
      },
      "file_extension": ".py",
      "mimetype": "text/x-python",
      "name": "python",
      "nbconvert_exporter": "python",
      "pygments_lexer": "ipython3",
      "version": "3.9.12"
    },
    "colab": {
      "provenance": []
    },
    "widgets": {
      "application/vnd.jupyter.widget-state+json": {
        "f3896cb5b6634bb78d7cecb4868cf129": {
          "model_module": "@jupyter-widgets/controls",
          "model_name": "HBoxModel",
          "model_module_version": "1.5.0",
          "state": {
            "_dom_classes": [],
            "_model_module": "@jupyter-widgets/controls",
            "_model_module_version": "1.5.0",
            "_model_name": "HBoxModel",
            "_view_count": null,
            "_view_module": "@jupyter-widgets/controls",
            "_view_module_version": "1.5.0",
            "_view_name": "HBoxView",
            "box_style": "",
            "children": [
              "IPY_MODEL_470709b2492045639c3f55b4c32c8133",
              "IPY_MODEL_b9b37140593b47cca042056cb4cac347",
              "IPY_MODEL_6bdf1b0bbf4a43a5a607b19bc52a45d8"
            ],
            "layout": "IPY_MODEL_cf838dbd67e5453599fd6f0abb0fe8d2"
          }
        },
        "470709b2492045639c3f55b4c32c8133": {
          "model_module": "@jupyter-widgets/controls",
          "model_name": "HTMLModel",
          "model_module_version": "1.5.0",
          "state": {
            "_dom_classes": [],
            "_model_module": "@jupyter-widgets/controls",
            "_model_module_version": "1.5.0",
            "_model_name": "HTMLModel",
            "_view_count": null,
            "_view_module": "@jupyter-widgets/controls",
            "_view_module_version": "1.5.0",
            "_view_name": "HTMLView",
            "description": "",
            "description_tooltip": null,
            "layout": "IPY_MODEL_af71e2a7d5b14f2abebf4c7b983f6c69",
            "placeholder": "​",
            "style": "IPY_MODEL_fe3bffba21ef4046889aa16daba07daa",
            "value": "100%"
          }
        },
        "b9b37140593b47cca042056cb4cac347": {
          "model_module": "@jupyter-widgets/controls",
          "model_name": "FloatProgressModel",
          "model_module_version": "1.5.0",
          "state": {
            "_dom_classes": [],
            "_model_module": "@jupyter-widgets/controls",
            "_model_module_version": "1.5.0",
            "_model_name": "FloatProgressModel",
            "_view_count": null,
            "_view_module": "@jupyter-widgets/controls",
            "_view_module_version": "1.5.0",
            "_view_name": "ProgressView",
            "bar_style": "success",
            "description": "",
            "description_tooltip": null,
            "layout": "IPY_MODEL_8f203563fd7c46d6954982dfedfad55f",
            "max": 20,
            "min": 0,
            "orientation": "horizontal",
            "style": "IPY_MODEL_fc5553ff058249eabd490ca281fcf43d",
            "value": 20
          }
        },
        "6bdf1b0bbf4a43a5a607b19bc52a45d8": {
          "model_module": "@jupyter-widgets/controls",
          "model_name": "HTMLModel",
          "model_module_version": "1.5.0",
          "state": {
            "_dom_classes": [],
            "_model_module": "@jupyter-widgets/controls",
            "_model_module_version": "1.5.0",
            "_model_name": "HTMLModel",
            "_view_count": null,
            "_view_module": "@jupyter-widgets/controls",
            "_view_module_version": "1.5.0",
            "_view_name": "HTMLView",
            "description": "",
            "description_tooltip": null,
            "layout": "IPY_MODEL_e0414859f14f428a953d2a49ea0cc0cd",
            "placeholder": "​",
            "style": "IPY_MODEL_af4a2966c6204cdda8527c5117a621b5",
            "value": " 20/20 [00:17&lt;00:00,  1.14it/s]"
          }
        },
        "cf838dbd67e5453599fd6f0abb0fe8d2": {
          "model_module": "@jupyter-widgets/base",
          "model_name": "LayoutModel",
          "model_module_version": "1.2.0",
          "state": {
            "_model_module": "@jupyter-widgets/base",
            "_model_module_version": "1.2.0",
            "_model_name": "LayoutModel",
            "_view_count": null,
            "_view_module": "@jupyter-widgets/base",
            "_view_module_version": "1.2.0",
            "_view_name": "LayoutView",
            "align_content": null,
            "align_items": null,
            "align_self": null,
            "border": null,
            "bottom": null,
            "display": null,
            "flex": null,
            "flex_flow": null,
            "grid_area": null,
            "grid_auto_columns": null,
            "grid_auto_flow": null,
            "grid_auto_rows": null,
            "grid_column": null,
            "grid_gap": null,
            "grid_row": null,
            "grid_template_areas": null,
            "grid_template_columns": null,
            "grid_template_rows": null,
            "height": null,
            "justify_content": null,
            "justify_items": null,
            "left": null,
            "margin": null,
            "max_height": null,
            "max_width": null,
            "min_height": null,
            "min_width": null,
            "object_fit": null,
            "object_position": null,
            "order": null,
            "overflow": null,
            "overflow_x": null,
            "overflow_y": null,
            "padding": null,
            "right": null,
            "top": null,
            "visibility": null,
            "width": null
          }
        },
        "af71e2a7d5b14f2abebf4c7b983f6c69": {
          "model_module": "@jupyter-widgets/base",
          "model_name": "LayoutModel",
          "model_module_version": "1.2.0",
          "state": {
            "_model_module": "@jupyter-widgets/base",
            "_model_module_version": "1.2.0",
            "_model_name": "LayoutModel",
            "_view_count": null,
            "_view_module": "@jupyter-widgets/base",
            "_view_module_version": "1.2.0",
            "_view_name": "LayoutView",
            "align_content": null,
            "align_items": null,
            "align_self": null,
            "border": null,
            "bottom": null,
            "display": null,
            "flex": null,
            "flex_flow": null,
            "grid_area": null,
            "grid_auto_columns": null,
            "grid_auto_flow": null,
            "grid_auto_rows": null,
            "grid_column": null,
            "grid_gap": null,
            "grid_row": null,
            "grid_template_areas": null,
            "grid_template_columns": null,
            "grid_template_rows": null,
            "height": null,
            "justify_content": null,
            "justify_items": null,
            "left": null,
            "margin": null,
            "max_height": null,
            "max_width": null,
            "min_height": null,
            "min_width": null,
            "object_fit": null,
            "object_position": null,
            "order": null,
            "overflow": null,
            "overflow_x": null,
            "overflow_y": null,
            "padding": null,
            "right": null,
            "top": null,
            "visibility": null,
            "width": null
          }
        },
        "fe3bffba21ef4046889aa16daba07daa": {
          "model_module": "@jupyter-widgets/controls",
          "model_name": "DescriptionStyleModel",
          "model_module_version": "1.5.0",
          "state": {
            "_model_module": "@jupyter-widgets/controls",
            "_model_module_version": "1.5.0",
            "_model_name": "DescriptionStyleModel",
            "_view_count": null,
            "_view_module": "@jupyter-widgets/base",
            "_view_module_version": "1.2.0",
            "_view_name": "StyleView",
            "description_width": ""
          }
        },
        "8f203563fd7c46d6954982dfedfad55f": {
          "model_module": "@jupyter-widgets/base",
          "model_name": "LayoutModel",
          "model_module_version": "1.2.0",
          "state": {
            "_model_module": "@jupyter-widgets/base",
            "_model_module_version": "1.2.0",
            "_model_name": "LayoutModel",
            "_view_count": null,
            "_view_module": "@jupyter-widgets/base",
            "_view_module_version": "1.2.0",
            "_view_name": "LayoutView",
            "align_content": null,
            "align_items": null,
            "align_self": null,
            "border": null,
            "bottom": null,
            "display": null,
            "flex": null,
            "flex_flow": null,
            "grid_area": null,
            "grid_auto_columns": null,
            "grid_auto_flow": null,
            "grid_auto_rows": null,
            "grid_column": null,
            "grid_gap": null,
            "grid_row": null,
            "grid_template_areas": null,
            "grid_template_columns": null,
            "grid_template_rows": null,
            "height": null,
            "justify_content": null,
            "justify_items": null,
            "left": null,
            "margin": null,
            "max_height": null,
            "max_width": null,
            "min_height": null,
            "min_width": null,
            "object_fit": null,
            "object_position": null,
            "order": null,
            "overflow": null,
            "overflow_x": null,
            "overflow_y": null,
            "padding": null,
            "right": null,
            "top": null,
            "visibility": null,
            "width": null
          }
        },
        "fc5553ff058249eabd490ca281fcf43d": {
          "model_module": "@jupyter-widgets/controls",
          "model_name": "ProgressStyleModel",
          "model_module_version": "1.5.0",
          "state": {
            "_model_module": "@jupyter-widgets/controls",
            "_model_module_version": "1.5.0",
            "_model_name": "ProgressStyleModel",
            "_view_count": null,
            "_view_module": "@jupyter-widgets/base",
            "_view_module_version": "1.2.0",
            "_view_name": "StyleView",
            "bar_color": null,
            "description_width": ""
          }
        },
        "e0414859f14f428a953d2a49ea0cc0cd": {
          "model_module": "@jupyter-widgets/base",
          "model_name": "LayoutModel",
          "model_module_version": "1.2.0",
          "state": {
            "_model_module": "@jupyter-widgets/base",
            "_model_module_version": "1.2.0",
            "_model_name": "LayoutModel",
            "_view_count": null,
            "_view_module": "@jupyter-widgets/base",
            "_view_module_version": "1.2.0",
            "_view_name": "LayoutView",
            "align_content": null,
            "align_items": null,
            "align_self": null,
            "border": null,
            "bottom": null,
            "display": null,
            "flex": null,
            "flex_flow": null,
            "grid_area": null,
            "grid_auto_columns": null,
            "grid_auto_flow": null,
            "grid_auto_rows": null,
            "grid_column": null,
            "grid_gap": null,
            "grid_row": null,
            "grid_template_areas": null,
            "grid_template_columns": null,
            "grid_template_rows": null,
            "height": null,
            "justify_content": null,
            "justify_items": null,
            "left": null,
            "margin": null,
            "max_height": null,
            "max_width": null,
            "min_height": null,
            "min_width": null,
            "object_fit": null,
            "object_position": null,
            "order": null,
            "overflow": null,
            "overflow_x": null,
            "overflow_y": null,
            "padding": null,
            "right": null,
            "top": null,
            "visibility": null,
            "width": null
          }
        },
        "af4a2966c6204cdda8527c5117a621b5": {
          "model_module": "@jupyter-widgets/controls",
          "model_name": "DescriptionStyleModel",
          "model_module_version": "1.5.0",
          "state": {
            "_model_module": "@jupyter-widgets/controls",
            "_model_module_version": "1.5.0",
            "_model_name": "DescriptionStyleModel",
            "_view_count": null,
            "_view_module": "@jupyter-widgets/base",
            "_view_module_version": "1.2.0",
            "_view_name": "StyleView",
            "description_width": ""
          }
        },
        "0d6d606167c6493f8917209d34804b0e": {
          "model_module": "@jupyter-widgets/controls",
          "model_name": "HBoxModel",
          "model_module_version": "1.5.0",
          "state": {
            "_dom_classes": [],
            "_model_module": "@jupyter-widgets/controls",
            "_model_module_version": "1.5.0",
            "_model_name": "HBoxModel",
            "_view_count": null,
            "_view_module": "@jupyter-widgets/controls",
            "_view_module_version": "1.5.0",
            "_view_name": "HBoxView",
            "box_style": "",
            "children": [
              "IPY_MODEL_7e4b9623048b4d4cbc4a5505442a92a2",
              "IPY_MODEL_4dfdd71d83854f97b4edd5c1364bd04e",
              "IPY_MODEL_fc7b1a4601df48af9bbfab5844834fe7"
            ],
            "layout": "IPY_MODEL_a44f5b89572a43d1aef817ae476a5cda"
          }
        },
        "7e4b9623048b4d4cbc4a5505442a92a2": {
          "model_module": "@jupyter-widgets/controls",
          "model_name": "HTMLModel",
          "model_module_version": "1.5.0",
          "state": {
            "_dom_classes": [],
            "_model_module": "@jupyter-widgets/controls",
            "_model_module_version": "1.5.0",
            "_model_name": "HTMLModel",
            "_view_count": null,
            "_view_module": "@jupyter-widgets/controls",
            "_view_module_version": "1.5.0",
            "_view_name": "HTMLView",
            "description": "",
            "description_tooltip": null,
            "layout": "IPY_MODEL_6b7f0b0ae9804fff81c5123473cab05d",
            "placeholder": "​",
            "style": "IPY_MODEL_8484040e5e994aae89fa245a6fe36f12",
            "value": "100%"
          }
        },
        "4dfdd71d83854f97b4edd5c1364bd04e": {
          "model_module": "@jupyter-widgets/controls",
          "model_name": "FloatProgressModel",
          "model_module_version": "1.5.0",
          "state": {
            "_dom_classes": [],
            "_model_module": "@jupyter-widgets/controls",
            "_model_module_version": "1.5.0",
            "_model_name": "FloatProgressModel",
            "_view_count": null,
            "_view_module": "@jupyter-widgets/controls",
            "_view_module_version": "1.5.0",
            "_view_name": "ProgressView",
            "bar_style": "success",
            "description": "",
            "description_tooltip": null,
            "layout": "IPY_MODEL_16ae77abf7884f89b981230a648c01ae",
            "max": 2000,
            "min": 0,
            "orientation": "horizontal",
            "style": "IPY_MODEL_be8762442ad74e3abc65f8f81d72c59c",
            "value": 2000
          }
        },
        "fc7b1a4601df48af9bbfab5844834fe7": {
          "model_module": "@jupyter-widgets/controls",
          "model_name": "HTMLModel",
          "model_module_version": "1.5.0",
          "state": {
            "_dom_classes": [],
            "_model_module": "@jupyter-widgets/controls",
            "_model_module_version": "1.5.0",
            "_model_name": "HTMLModel",
            "_view_count": null,
            "_view_module": "@jupyter-widgets/controls",
            "_view_module_version": "1.5.0",
            "_view_name": "HTMLView",
            "description": "",
            "description_tooltip": null,
            "layout": "IPY_MODEL_8b2c06bc3c3849dcafcf07fecf3e5160",
            "placeholder": "​",
            "style": "IPY_MODEL_dbdd527a9c3d4e42b131e2110a20f747",
            "value": " 2000/2000 [23:26&lt;00:00,  1.79it/s]"
          }
        },
        "a44f5b89572a43d1aef817ae476a5cda": {
          "model_module": "@jupyter-widgets/base",
          "model_name": "LayoutModel",
          "model_module_version": "1.2.0",
          "state": {
            "_model_module": "@jupyter-widgets/base",
            "_model_module_version": "1.2.0",
            "_model_name": "LayoutModel",
            "_view_count": null,
            "_view_module": "@jupyter-widgets/base",
            "_view_module_version": "1.2.0",
            "_view_name": "LayoutView",
            "align_content": null,
            "align_items": null,
            "align_self": null,
            "border": null,
            "bottom": null,
            "display": null,
            "flex": null,
            "flex_flow": null,
            "grid_area": null,
            "grid_auto_columns": null,
            "grid_auto_flow": null,
            "grid_auto_rows": null,
            "grid_column": null,
            "grid_gap": null,
            "grid_row": null,
            "grid_template_areas": null,
            "grid_template_columns": null,
            "grid_template_rows": null,
            "height": null,
            "justify_content": null,
            "justify_items": null,
            "left": null,
            "margin": null,
            "max_height": null,
            "max_width": null,
            "min_height": null,
            "min_width": null,
            "object_fit": null,
            "object_position": null,
            "order": null,
            "overflow": null,
            "overflow_x": null,
            "overflow_y": null,
            "padding": null,
            "right": null,
            "top": null,
            "visibility": null,
            "width": null
          }
        },
        "6b7f0b0ae9804fff81c5123473cab05d": {
          "model_module": "@jupyter-widgets/base",
          "model_name": "LayoutModel",
          "model_module_version": "1.2.0",
          "state": {
            "_model_module": "@jupyter-widgets/base",
            "_model_module_version": "1.2.0",
            "_model_name": "LayoutModel",
            "_view_count": null,
            "_view_module": "@jupyter-widgets/base",
            "_view_module_version": "1.2.0",
            "_view_name": "LayoutView",
            "align_content": null,
            "align_items": null,
            "align_self": null,
            "border": null,
            "bottom": null,
            "display": null,
            "flex": null,
            "flex_flow": null,
            "grid_area": null,
            "grid_auto_columns": null,
            "grid_auto_flow": null,
            "grid_auto_rows": null,
            "grid_column": null,
            "grid_gap": null,
            "grid_row": null,
            "grid_template_areas": null,
            "grid_template_columns": null,
            "grid_template_rows": null,
            "height": null,
            "justify_content": null,
            "justify_items": null,
            "left": null,
            "margin": null,
            "max_height": null,
            "max_width": null,
            "min_height": null,
            "min_width": null,
            "object_fit": null,
            "object_position": null,
            "order": null,
            "overflow": null,
            "overflow_x": null,
            "overflow_y": null,
            "padding": null,
            "right": null,
            "top": null,
            "visibility": null,
            "width": null
          }
        },
        "8484040e5e994aae89fa245a6fe36f12": {
          "model_module": "@jupyter-widgets/controls",
          "model_name": "DescriptionStyleModel",
          "model_module_version": "1.5.0",
          "state": {
            "_model_module": "@jupyter-widgets/controls",
            "_model_module_version": "1.5.0",
            "_model_name": "DescriptionStyleModel",
            "_view_count": null,
            "_view_module": "@jupyter-widgets/base",
            "_view_module_version": "1.2.0",
            "_view_name": "StyleView",
            "description_width": ""
          }
        },
        "16ae77abf7884f89b981230a648c01ae": {
          "model_module": "@jupyter-widgets/base",
          "model_name": "LayoutModel",
          "model_module_version": "1.2.0",
          "state": {
            "_model_module": "@jupyter-widgets/base",
            "_model_module_version": "1.2.0",
            "_model_name": "LayoutModel",
            "_view_count": null,
            "_view_module": "@jupyter-widgets/base",
            "_view_module_version": "1.2.0",
            "_view_name": "LayoutView",
            "align_content": null,
            "align_items": null,
            "align_self": null,
            "border": null,
            "bottom": null,
            "display": null,
            "flex": null,
            "flex_flow": null,
            "grid_area": null,
            "grid_auto_columns": null,
            "grid_auto_flow": null,
            "grid_auto_rows": null,
            "grid_column": null,
            "grid_gap": null,
            "grid_row": null,
            "grid_template_areas": null,
            "grid_template_columns": null,
            "grid_template_rows": null,
            "height": null,
            "justify_content": null,
            "justify_items": null,
            "left": null,
            "margin": null,
            "max_height": null,
            "max_width": null,
            "min_height": null,
            "min_width": null,
            "object_fit": null,
            "object_position": null,
            "order": null,
            "overflow": null,
            "overflow_x": null,
            "overflow_y": null,
            "padding": null,
            "right": null,
            "top": null,
            "visibility": null,
            "width": null
          }
        },
        "be8762442ad74e3abc65f8f81d72c59c": {
          "model_module": "@jupyter-widgets/controls",
          "model_name": "ProgressStyleModel",
          "model_module_version": "1.5.0",
          "state": {
            "_model_module": "@jupyter-widgets/controls",
            "_model_module_version": "1.5.0",
            "_model_name": "ProgressStyleModel",
            "_view_count": null,
            "_view_module": "@jupyter-widgets/base",
            "_view_module_version": "1.2.0",
            "_view_name": "StyleView",
            "bar_color": null,
            "description_width": ""
          }
        },
        "8b2c06bc3c3849dcafcf07fecf3e5160": {
          "model_module": "@jupyter-widgets/base",
          "model_name": "LayoutModel",
          "model_module_version": "1.2.0",
          "state": {
            "_model_module": "@jupyter-widgets/base",
            "_model_module_version": "1.2.0",
            "_model_name": "LayoutModel",
            "_view_count": null,
            "_view_module": "@jupyter-widgets/base",
            "_view_module_version": "1.2.0",
            "_view_name": "LayoutView",
            "align_content": null,
            "align_items": null,
            "align_self": null,
            "border": null,
            "bottom": null,
            "display": null,
            "flex": null,
            "flex_flow": null,
            "grid_area": null,
            "grid_auto_columns": null,
            "grid_auto_flow": null,
            "grid_auto_rows": null,
            "grid_column": null,
            "grid_gap": null,
            "grid_row": null,
            "grid_template_areas": null,
            "grid_template_columns": null,
            "grid_template_rows": null,
            "height": null,
            "justify_content": null,
            "justify_items": null,
            "left": null,
            "margin": null,
            "max_height": null,
            "max_width": null,
            "min_height": null,
            "min_width": null,
            "object_fit": null,
            "object_position": null,
            "order": null,
            "overflow": null,
            "overflow_x": null,
            "overflow_y": null,
            "padding": null,
            "right": null,
            "top": null,
            "visibility": null,
            "width": null
          }
        },
        "dbdd527a9c3d4e42b131e2110a20f747": {
          "model_module": "@jupyter-widgets/controls",
          "model_name": "DescriptionStyleModel",
          "model_module_version": "1.5.0",
          "state": {
            "_model_module": "@jupyter-widgets/controls",
            "_model_module_version": "1.5.0",
            "_model_name": "DescriptionStyleModel",
            "_view_count": null,
            "_view_module": "@jupyter-widgets/base",
            "_view_module_version": "1.2.0",
            "_view_name": "StyleView",
            "description_width": ""
          }
        }
      }
    }
  },
  "nbformat": 4,
  "nbformat_minor": 0
}