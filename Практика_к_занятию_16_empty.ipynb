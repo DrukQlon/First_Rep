{
  "cells": [
    {
      "cell_type": "markdown",
      "metadata": {
        "id": "view-in-github",
        "colab_type": "text"
      },
      "source": [
        "<a href=\"https://colab.research.google.com/github/Vorzh/DA_HW/blob/main/%D0%9F%D1%80%D0%B0%D0%BA%D1%82%D0%B8%D0%BA%D0%B0_%D0%BA_%D0%B7%D0%B0%D0%BD%D1%8F%D1%82%D0%B8%D1%8E_16_empty.ipynb\" target=\"_parent\"><img src=\"https://colab.research.google.com/assets/colab-badge.svg\" alt=\"Open In Colab\"/></a>"
      ]
    },
    {
      "cell_type": "markdown",
      "metadata": {
        "id": "pDrecLU-4QjS"
      },
      "source": [
        "# Практика"
      ]
    },
    {
      "cell_type": "markdown",
      "metadata": {
        "id": "gUvTNDlMaV-a"
      },
      "source": [
        "## Определение вероятности. События\n",
        "\n",
        "Требуется сгенерировать необходимые выборки и произвести по ним расчеты"
      ]
    },
    {
      "cell_type": "markdown",
      "metadata": {
        "id": "5V70InEBTgup"
      },
      "source": [
        "### Задача 1\n",
        "Брошено две монеты. Найти вероятность того, что монеты выпали разными сторонами"
      ]
    },
    {
      "cell_type": "code",
      "execution_count": 3,
      "metadata": {
        "id": "88Iw-SL3jYQV",
        "colab": {
          "base_uri": "https://localhost:8080/"
        },
        "outputId": "645cc3e9-b164-4597-9d3c-4eb3b26b48ee"
      },
      "outputs": [
        {
          "output_type": "stream",
          "name": "stdout",
          "text": [
            "0.49891\n"
          ]
        }
      ],
      "source": [
        "import random \n",
        "\n",
        "\n",
        "coin1 = [0,1]\n",
        "coin2 = [0,1]\n",
        "p = 0\n",
        "\n",
        "for i in range(1,100000):\n",
        "  a = random.choice(coin1)\n",
        "  b = random.choice(coin2)\n",
        "  if a != b:\n",
        "    p+=1\n",
        "\n",
        "print(p/100000)"
      ]
    },
    {
      "cell_type": "markdown",
      "metadata": {
        "id": "t0XOMos2Tl0e"
      },
      "source": [
        "### Задача 2\n",
        "Брошено три монеты. Описать множество всех элементарных событий. Найти вероятности следующих событий:\n",
        "\n",
        "\n",
        "1.   A = {не выпало ни одного герба}\n",
        "2.   B = {выпало четное число гербов}\n",
        "3.   C = {на третьей монете выпал герб}\n"
      ]
    },
    {
      "cell_type": "code",
      "execution_count": 71,
      "metadata": {
        "id": "o7NjAE9uUo-L",
        "colab": {
          "base_uri": "https://localhost:8080/"
        },
        "outputId": "cc76cc9c-7f4c-457e-a0e4-391da5451f3f"
      },
      "outputs": [
        {
          "output_type": "stream",
          "name": "stdout",
          "text": [
            "A = 0.1238\n",
            "B = 0.37515\n",
            "C = 0.49982\n"
          ]
        }
      ],
      "source": [
        "coin1 = [0,1]\n",
        "coin2 = [0,1]\n",
        "coin3 = [0,1]\n",
        "a = 0\n",
        "b = 0 \n",
        "c = 0\n",
        "\n",
        "\n",
        "for i in range(0,100000):\n",
        "  q = random.choice(coin1)\n",
        "  w = random.choice(coin2)\n",
        "  e = random.choice(coin3)\n",
        "  if q == 0 and w == 0 and e == 0 :\n",
        "    a +=1\n",
        "A = a/100000\n",
        "print('A = {}'.format(A))\n",
        "\n",
        "for i in range(0,100000):\n",
        "  q = random.choice(coin1)\n",
        "  w = random.choice(coin2)\n",
        "  e = random.choice(coin3)\n",
        "  if q + w + e == 2 :\n",
        "    b +=1\n",
        "B = b/100000\n",
        "print('B = {}'.format(B))\n",
        "\n",
        "for i in range(0,100000):\n",
        "  q = random.choice(coin1)\n",
        "  w = random.choice(coin2)\n",
        "  e = random.choice(coin3)\n",
        "  if e == 1 :\n",
        "    c +=1\n",
        "C = c/100000\n",
        "print('C = {}'.format(C))"
      ]
    },
    {
      "cell_type": "markdown",
      "metadata": {
        "id": "12J2xHCekbiQ"
      },
      "source": [
        "Предлагается также решить задачи: \n",
        "\n",
        "### Задача 3\n",
        "Из двух претендентов E и L на ответственную должность три члена комиссии должны отобрать одного. Каждый член комиссии должен указать либо одного достойного, либо забраковать обоих. Претендент считается выбранным, если он был признана достойным хотя бы двумя членами комиссии.\n",
        "Найти вероятность событий:\n",
        "\n",
        "A = {рекомендован L}, B = {рекомендован E}\n"
      ]
    },
    {
      "cell_type": "code",
      "execution_count": 20,
      "metadata": {
        "colab": {
          "base_uri": "https://localhost:8080/"
        },
        "id": "PoMEWhs-kbiR",
        "outputId": "c19d46cf-8271-42e3-f091-d69655f4df27"
      },
      "outputs": [
        {
          "output_type": "stream",
          "name": "stdout",
          "text": [
            "A = 0.25943\n",
            "B = 0.25932\n"
          ]
        }
      ],
      "source": [
        "kom_1=[0,'E','L']\n",
        "kom_2=[0,'E','L']\n",
        "kom_3=[0,'E','L']\n",
        "e = 0\n",
        "l = 0 \n",
        "\n",
        "for i in range(0,100000):\n",
        "  a = random.choice(kom_1)\n",
        "  b = random.choice(kom_2)\n",
        "  c = random.choice(kom_3)\n",
        "  if a == b == 'L' or a == c == 'L' or b==c=='L':\n",
        "    e +=1\n",
        "A = e/100000\n",
        "print('A = {}'.format(A))\n",
        "\n",
        "for i in range(0,100000):\n",
        "  a = random.choice(kom_1)\n",
        "  b = random.choice(kom_2)\n",
        "  c = random.choice(kom_3)\n",
        "  if a == b == 'E' or a == c == 'E' or b==c=='E':\n",
        "    l +=1\n",
        "B = l/100000\n",
        "print('B = {}'.format(B))"
      ]
    },
    {
      "cell_type": "markdown",
      "metadata": {
        "id": "peM38mVfYa5B"
      },
      "source": [
        "### Задача 4\n",
        "Брошено две игральных кости. Описать множество элементарных событий. Найти вероятности событий:\n",
        "\n",
        "A = {вышло две \"шестерки\"}\n",
        "\n",
        "B = {сумма выпавших очков не меньше 11}\n",
        "\n",
        "C = {не выпала ни одна \"шестерка\"}"
      ]
    },
    {
      "cell_type": "code",
      "execution_count": 23,
      "metadata": {
        "colab": {
          "base_uri": "https://localhost:8080/"
        },
        "id": "959zG8AMkbiR",
        "outputId": "3ffa2aeb-1c2b-4aff-fc77-a4c70e678102"
      },
      "outputs": [
        {
          "output_type": "stream",
          "name": "stdout",
          "text": [
            "A = 0.02794\n",
            "B = 0.08195\n",
            "C = 0.69334\n"
          ]
        }
      ],
      "source": [
        "c_1 = [1,2,3,4,5,6]\n",
        "c_2 = [1,2,3,4,5,6]\n",
        "\n",
        "q = 0\n",
        "w = 0\n",
        "e = 0\n",
        "\n",
        "for i in range(0,100000):\n",
        "  a = random.choice(c_1)\n",
        "  b = random.choice(c_2)\n",
        "  if a + b == 12:\n",
        "    q +=1\n",
        "A = q/100000\n",
        "print('A = {}'.format(A))\n",
        "\n",
        "for i in range(0,100000):\n",
        "  a = random.choice(c_1)\n",
        "  b = random.choice(c_2)\n",
        "  if a + b >= 11:\n",
        "    w +=1\n",
        "B = w/100000\n",
        "print('B = {}'.format(B))\n",
        "\n",
        "for i in range(0,100000):\n",
        "  a = random.choice(c_1)\n",
        "  b = random.choice(c_2)\n",
        "  if a != 6 and  b != 6:\n",
        "    e +=1\n",
        "C = e/100000\n",
        "print('C = {}'.format(C))"
      ]
    },
    {
      "cell_type": "markdown",
      "metadata": {
        "id": "f-Bi0p8haclB"
      },
      "source": [
        "## Вероятность суммы событий"
      ]
    },
    {
      "cell_type": "markdown",
      "metadata": {
        "id": "g7A7QlvGTnwZ"
      },
      "source": [
        "### Задача 5\n",
        "Брошены две игральные кости. Найти вероятность события D = {выпала хотя бы одна шестёрка}\n"
      ]
    },
    {
      "cell_type": "code",
      "execution_count": 26,
      "metadata": {
        "id": "vjtTJN-kUp9D",
        "colab": {
          "base_uri": "https://localhost:8080/"
        },
        "outputId": "11914372-8069-4e42-d590-a20aaabff790"
      },
      "outputs": [
        {
          "output_type": "stream",
          "name": "stdout",
          "text": [
            "D = 0.30791\n"
          ]
        }
      ],
      "source": [
        "c_1 = [1,2,3,4,5,6]\n",
        "c_2 = [1,2,3,4,5,6]\n",
        "\n",
        "q = 0\n",
        "\n",
        "for i in range(0,100000):\n",
        "  a = random.choice(c_1)\n",
        "  b = random.choice(c_2)\n",
        "  if a == 6 or b == 6:\n",
        "    q +=1\n",
        "D = q/100000\n",
        "print('D = {}'.format(D))"
      ]
    },
    {
      "cell_type": "markdown",
      "metadata": {
        "id": "R1bYSzQQbC6I"
      },
      "source": [
        "Предлагается также решить задачи: \n",
        "\n",
        "### Задача 6\n",
        "В телефонном номере три последние цифры стерлись. Считая, что все возможные значения стершихся цифр равновероятны, найти вероятность событий:\n",
        "\n",
        "A = {Стерлись различные цифры},\n",
        "\n",
        "B = {Стерлись одинаковые цифры},\n",
        "\n",
        "C = {Среди стершихся цифр хотя бы две совпадают},\n",
        "\n",
        "D = {Среди стершихся цифр хотя бы две различны}\n"
      ]
    },
    {
      "cell_type": "code",
      "execution_count": 79,
      "metadata": {
        "colab": {
          "base_uri": "https://localhost:8080/"
        },
        "id": "P-x_vhSQkbiU",
        "outputId": "c9240453-c775-4c57-cdb6-349edb0db66b"
      },
      "outputs": [
        {
          "output_type": "stream",
          "name": "stdout",
          "text": [
            "A = 0.71896\n",
            "B = 0.00991\n",
            "C = 0.27967\n",
            "D = 0.99006\n"
          ]
        }
      ],
      "source": [
        "t = range(0,10)\n",
        "q = 0\n",
        "w = 0\n",
        "e = 0\n",
        "r = 0\n",
        "\n",
        "#Стерлись различные цифры\n",
        "for i in range(0,100000):\n",
        "  a = random.choice(t)\n",
        "  b = random.choice(t)\n",
        "  c = random.choice(t)\n",
        "  if a != b and a != c and b != c:\n",
        "    q +=1\n",
        "A = q/100000\n",
        "print('A = {}'.format(A))\n",
        "\n",
        "#Стерлись одинаковые цифры\n",
        "for i in range(0,100000):\n",
        "  a = random.choice(t)\n",
        "  b = random.choice(t)\n",
        "  c = random.choice(t)\n",
        "  if a == b == c:\n",
        "    w +=1\n",
        "B = w/100000\n",
        "print('B = {}'.format(B))\n",
        "\n",
        "#Среди стершихся цифр хотя бы две совпадают\n",
        "for i in range(0,100000):\n",
        "  a = random.choice(t)\n",
        "  b = random.choice(t)\n",
        "  c = random.choice(t)\n",
        "  if a == b or a == c or b == c:\n",
        "    e +=1\n",
        "C = e/100000\n",
        "print('C = {}'.format(C))\n",
        "\n",
        "#Среди стершихся цифр хотя бы две различны\n",
        "for i in range(0,100000):\n",
        "  a = random.choice(t)\n",
        "  b = random.choice(t)\n",
        "  c = random.choice(t)\n",
        "  if a != b or a != c or b != c:\n",
        "    r +=1\n",
        "D = r/100000\n",
        "print('D = {}'.format(D))"
      ]
    },
    {
      "cell_type": "markdown",
      "metadata": {
        "id": "RnugkR8BalK_"
      },
      "source": [
        "## Случайные величины"
      ]
    },
    {
      "cell_type": "markdown",
      "metadata": {
        "id": "yLoZDZ17UVsp"
      },
      "source": [
        "### Задача 7\n",
        "В лотерее имеется 10 билетов, из которых один выигрышный. Размер выигрыша 10 ден. ед.; стоимость билета 1 ден ед. Найти закон распределения случайной величины X, равной чистому выигрышу участника лотереи, который вытаскивает билет первым."
      ]
    },
    {
      "cell_type": "code",
      "execution_count": null,
      "metadata": {
        "id": "oNk432sKUqzT"
      },
      "outputs": [],
      "source": []
    },
    {
      "cell_type": "markdown",
      "metadata": {
        "id": "U-NK9liSbpvb"
      },
      "source": [
        "Предлагается также решить задачу: \n",
        "\n",
        "### Задача 8\n",
        "Брошены две игральные кости. Найти закон распределения случайной величины $X$, равной сумме выпавших очков. Найти вероятности событий ${X <= 4}$, ${X > 4}$"
      ]
    },
    {
      "cell_type": "code",
      "execution_count": null,
      "metadata": {
        "id": "pv9bC0oGkbiW"
      },
      "outputs": [],
      "source": [
        "#сложно, искал разное в интернете , и получилась некая солянка в решении\n",
        "N = 100000\n",
        "A = 0\n",
        "B = 0\n",
        "dice1 = [random.choice(range(1,7)) for i in range(N)] #выпавшее число на первом кубике\n",
        "dice2 = [random.choice(range(1,7)) for i in range(N)] #выпавшее число на втором кубике\n",
        "summ = [dice1[i] + dice2[i] for i in range(N)] # сумма очков в итерациях\n",
        "dice_summ = {i: summ.count(i) for i in range(2,13)} #количество очков \n",
        "dice_summ_P = {i: summ.count(i)/N for i in range(2,13)}  # Вероятность таких сумм очков\n",
        "#создаем цикл и сравниваем с числом 4 и суммируем число таких совпадений\n",
        "for key, value in dice_summ.items():\n",
        "  if key <= 4:\n",
        "    A += value\n",
        "  else:\n",
        "    B += value\n",
        "#Вычиляем вероятность событий    \n",
        "print('вероятность события  X<=4', A/N)\n",
        "print('вероятность события  X>4', B/N)\n",
        "#print(A)\n",
        "plt.bar(range(len(dice_summ_P)), list(dice_summ_P.values()), align='center')\n",
        "plt.xticks(range(len(dice_summ_P)), list(dice_summ_P.keys()))\n",
        "plt.plot()"
      ]
    },
    {
      "cell_type": "markdown",
      "metadata": {
        "id": "shgW4D83awjK"
      },
      "source": [
        "## Условные вероятности"
      ]
    },
    {
      "cell_type": "markdown",
      "metadata": {
        "id": "Fbu1RFZwWZrk"
      },
      "source": [
        "### Задача 9\n",
        "Из колоды (36 карт) вынимают последовательно без возвращения две карты. Найти вероятность того, что первой картой была шестерка, а второй — семерка. Найти условную вероятность того же события при условии, что обе карты бубновой масти.\n"
      ]
    },
    {
      "cell_type": "code",
      "execution_count": null,
      "metadata": {
        "id": "037o56awW9-E"
      },
      "outputs": [],
      "source": [
        "#Создадим колоду\n",
        "suit = ['Бубны', 'Червы', 'Трефы', 'Пики']\n",
        "card = ['6', '7', '8', '9', '10', 'Валет', 'Дама', 'Король', 'Туз']\n",
        "cards = []\n",
        "for i in range(len(card)):\n",
        "  cards.append(f'{card[i]} {suit[0]}')\n",
        "  cards.append(f'{card[i]} {suit[1]}')\n",
        "  cards.append(f'{card[i]} {suit[2]}')\n",
        "  cards.append(f'{card[i]} {suit[3]}')\n",
        "len(cards)"
      ]
    },
    {
      "cell_type": "code",
      "source": [
        "N=100000\n",
        "A=0 \n",
        "B=0\n",
        "C=0\n",
        "# создаем цикл\n",
        "i=0\n",
        "while i<N:\n",
        "    i+=1\n",
        "    cards_old=cards.copy()\n",
        "    x1=random.choice(cards) # тянем первую карту\n",
        "    cards_old.remove(x1)\n",
        "    cards_new = cards_old.copy()\n",
        "    x2=random.choice(cards_new) # тянем вторую карту\n",
        "    if x1.startswith('6')==True and x2.startswith('7')==True: # проверяем что первая карта 6 и втроая 7 \n",
        "        #и считаем число таких исходов\n",
        "        A+=1\n",
        "    \n",
        "    # найдем количество события В\n",
        "    if x1.endswith('Бубны')==True and x2.endswith('Бубны')==True:\n",
        "        B+=1\n",
        "    #Найдем вероятность что первой картой была шестерка,а второй — семерка \n",
        "    #при условии, что обе карты бубновой масти\n",
        "    if x1=='6 Бубны' and x2=='7 Бубны':\n",
        "        C+=1\n",
        "\n",
        "#\n",
        "#print(A,B)\n",
        "print('Вероятность события что первой картой была шестерка, а второй — семерка =', A/N)\n",
        "print('Вероятность события  обе карты бубновой масти =', B/N)\n",
        "#Услованя вероятность это отношнние вероятностьей АВ по отношение к вероятности В\n",
        "#В нашем случаии это событие С когда 6 и 7 бубны\n",
        "P=(C/N)/(B/N)\n",
        "print(\"\"\"Услованя вероятность что первой картой была шестерка,\n",
        "а второй — семерка при условии, что обе карты бубновой масти =\"\"\", P)"
      ],
      "metadata": {
        "id": "By8h2nI83xJL"
      },
      "execution_count": null,
      "outputs": []
    },
    {
      "cell_type": "markdown",
      "metadata": {
        "id": "hNVxtaz5c57b"
      },
      "source": [
        "Предлагается также решить задачу: \n",
        "\n",
        "### Задача 10\n",
        "Из урны, содержащей два белых и три черных шара, последовательно извлекают два шара; вынутые шары не возвращаются. Если первый шар оказался черным, то перед вторым извлечением в урну добавляют белый шар. В противном случае состав оставшихся шаров не меняют. Найти вероятности событий:\n",
        "\n",
        "$A$ = {извлечены два белых шара},\n",
        "\n",
        "$B$ = {извлечены два черных шара}\n",
        "\n",
        "Указание. Пусть событие $C_1$ = {первый шар белый}, событие $C_2$ = {второй шар белый}. Тогда $A = C_1C_2$, $B = \\overline C_1 \\overline C_2$ "
      ]
    },
    {
      "cell_type": "code",
      "execution_count": null,
      "metadata": {
        "id": "WSLnhk2sdBt_"
      },
      "outputs": [],
      "source": [
        " #\n",
        "N=100000\n",
        "urna=['w', 'w', 'b', 'b', 'b'] #первоначальная урна\n",
        "\n",
        "A=0 \n",
        "B=0\n",
        "# создаем цикл\n",
        "i=0\n",
        "while i<N:\n",
        "    i+=1\n",
        "    urna=['w', 'w', 'b', 'b', 'b']\n",
        "    x1=random.choice(urna)\n",
        "        \n",
        "    if x1 == 'b': # если первый шар черный, добавлем в урну белый\n",
        "        urna.append('w')\n",
        "        urna2=urna\n",
        "    else: # в противном случаи убираем из списка один белый, и дальше вибираем из остатка\n",
        "        urna.remove(x1)\n",
        "        urna2=urna\n",
        "    #else: urna=urna.remove(x1)\n",
        "    x2=random.choice(urna2) #Вынимаем второй шар из новой урны(или на 1 шар меньше, или на 1 больше)\n",
        "        \n",
        "    if x1=='w' and x2 == 'w':\n",
        "        A+=1 #считаем сколько белых подряд было\n",
        "    elif x1=='b' and x2 == 'b':\n",
        "        B+=1 #считаем сколько черных подряд было\n",
        "    #print(x1, x2)\n",
        "        #print(urna2)\n",
        "print('вероятность события извлечены два белых шара =', A/N)\n",
        "print('вероятность события извлечены два черных шара =', B/N)"
      ]
    }
  ],
  "metadata": {
    "colab": {
      "provenance": [],
      "include_colab_link": true
    },
    "kernelspec": {
      "display_name": "Python 3 (ipykernel)",
      "language": "python",
      "name": "python3"
    },
    "language_info": {
      "codemirror_mode": {
        "name": "ipython",
        "version": 3
      },
      "file_extension": ".py",
      "mimetype": "text/x-python",
      "name": "python",
      "nbconvert_exporter": "python",
      "pygments_lexer": "ipython3",
      "version": "3.9.13"
    }
  },
  "nbformat": 4,
  "nbformat_minor": 0
}